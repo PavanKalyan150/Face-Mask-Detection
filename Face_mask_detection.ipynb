{
  "cells": [
    {
      "cell_type": "code",
      "execution_count": 2,
      "metadata": {
        "colab": {
          "base_uri": "https://localhost:8080/"
        },
        "id": "rSoV1ELvFVPM",
        "outputId": "98875d5a-4763-490f-a6fc-900ac082eb3a"
      },
      "outputs": [
        {
          "name": "stdout",
          "output_type": "stream",
          "text": [
            "Collecting opendatasets\n",
            "  Downloading opendatasets-0.1.22-py3-none-any.whl.metadata (9.2 kB)\n",
            "Requirement already satisfied: tqdm in /usr/local/lib/python3.12/dist-packages (from opendatasets) (4.67.1)\n",
            "Requirement already satisfied: kaggle in /usr/local/lib/python3.12/dist-packages (from opendatasets) (1.7.4.5)\n",
            "Requirement already satisfied: click in /usr/local/lib/python3.12/dist-packages (from opendatasets) (8.2.1)\n",
            "Requirement already satisfied: bleach in /usr/local/lib/python3.12/dist-packages (from kaggle->opendatasets) (6.2.0)\n",
            "Requirement already satisfied: certifi>=14.05.14 in /usr/local/lib/python3.12/dist-packages (from kaggle->opendatasets) (2025.8.3)\n",
            "Requirement already satisfied: charset-normalizer in /usr/local/lib/python3.12/dist-packages (from kaggle->opendatasets) (3.4.3)\n",
            "Requirement already satisfied: idna in /usr/local/lib/python3.12/dist-packages (from kaggle->opendatasets) (3.10)\n",
            "Requirement already satisfied: protobuf in /usr/local/lib/python3.12/dist-packages (from kaggle->opendatasets) (5.29.5)\n",
            "Requirement already satisfied: python-dateutil>=2.5.3 in /usr/local/lib/python3.12/dist-packages (from kaggle->opendatasets) (2.9.0.post0)\n",
            "Requirement already satisfied: python-slugify in /usr/local/lib/python3.12/dist-packages (from kaggle->opendatasets) (8.0.4)\n",
            "Requirement already satisfied: requests in /usr/local/lib/python3.12/dist-packages (from kaggle->opendatasets) (2.32.4)\n",
            "Requirement already satisfied: setuptools>=21.0.0 in /usr/local/lib/python3.12/dist-packages (from kaggle->opendatasets) (75.2.0)\n",
            "Requirement already satisfied: six>=1.10 in /usr/local/lib/python3.12/dist-packages (from kaggle->opendatasets) (1.17.0)\n",
            "Requirement already satisfied: text-unidecode in /usr/local/lib/python3.12/dist-packages (from kaggle->opendatasets) (1.3)\n",
            "Requirement already satisfied: urllib3>=1.15.1 in /usr/local/lib/python3.12/dist-packages (from kaggle->opendatasets) (2.5.0)\n",
            "Requirement already satisfied: webencodings in /usr/local/lib/python3.12/dist-packages (from kaggle->opendatasets) (0.5.1)\n",
            "Downloading opendatasets-0.1.22-py3-none-any.whl (15 kB)\n",
            "Installing collected packages: opendatasets\n",
            "Successfully installed opendatasets-0.1.22\n"
          ]
        }
      ],
      "source": [
        "pip install opendatasets"
      ]
    },
    {
      "cell_type": "markdown",
      "metadata": {},
      "source": []
    },
    {
      "cell_type": "code",
      "execution_count": 3,
      "metadata": {
        "id": "eL5wt1i8Fdy7"
      },
      "outputs": [],
      "source": [
        "import opendatasets as od"
      ]
    },
    {
      "cell_type": "code",
      "execution_count": 4,
      "metadata": {
        "colab": {
          "base_uri": "https://localhost:8080/"
        },
        "id": "Ln5dm-LrFiUl",
        "outputId": "6ababfb3-c8c7-4f95-84b2-ae54b63eb758"
      },
      "outputs": [
        {
          "name": "stdout",
          "output_type": "stream",
          "text": [
            "Please provide your Kaggle credentials to download this dataset. Learn more: http://bit.ly/kaggle-creds\n",
            "Your Kaggle username: pavankalyan1504\n",
            "Your Kaggle Key: ··········\n",
            "Dataset URL: https://www.kaggle.com/datasets/omkargurav/face-mask-dataset\n",
            "Downloading face-mask-dataset.zip to ./face-mask-dataset\n"
          ]
        },
        {
          "name": "stderr",
          "output_type": "stream",
          "text": [
            "100%|██████████| 163M/163M [00:00<00:00, 1.03GB/s]"
          ]
        },
        {
          "name": "stdout",
          "output_type": "stream",
          "text": [
            "\n"
          ]
        },
        {
          "name": "stderr",
          "output_type": "stream",
          "text": [
            "\n"
          ]
        }
      ],
      "source": [
        "od.download(\"https://www.kaggle.com/datasets/omkargurav/face-mask-dataset\")"
      ]
    },
    {
      "cell_type": "code",
      "execution_count": 5,
      "metadata": {
        "id": "nzeG2kBlFohn"
      },
      "outputs": [],
      "source": [
        "import os\n",
        "with_mask=os.listdir(\"/content/face-mask-dataset/data/with_mask\")"
      ]
    },
    {
      "cell_type": "code",
      "execution_count": 6,
      "metadata": {
        "colab": {
          "base_uri": "https://localhost:8080/"
        },
        "id": "X9yxTx0OHFCP",
        "outputId": "51217734-8e1a-479a-e7fc-7a1401df3d17"
      },
      "outputs": [
        {
          "data": {
            "text/plain": [
              "3725"
            ]
          },
          "execution_count": 6,
          "metadata": {},
          "output_type": "execute_result"
        }
      ],
      "source": [
        "len(with_mask)"
      ]
    },
    {
      "cell_type": "code",
      "execution_count": 7,
      "metadata": {
        "id": "LUmzsZS0HG01"
      },
      "outputs": [],
      "source": [
        "without_mask=os.listdir(\"/content/face-mask-dataset/data/without_mask\")"
      ]
    },
    {
      "cell_type": "code",
      "execution_count": 8,
      "metadata": {
        "colab": {
          "base_uri": "https://localhost:8080/"
        },
        "id": "MoXuAlm_HOm7",
        "outputId": "253be907-b87d-4e34-a7ef-b7810cb43a96"
      },
      "outputs": [
        {
          "data": {
            "text/plain": [
              "3828"
            ]
          },
          "execution_count": 8,
          "metadata": {},
          "output_type": "execute_result"
        }
      ],
      "source": [
        "len(without_mask)"
      ]
    },
    {
      "cell_type": "code",
      "execution_count": 9,
      "metadata": {
        "colab": {
          "base_uri": "https://localhost:8080/"
        },
        "id": "W2t-nldGHQdf",
        "outputId": "41d31fc1-e517-4d1d-ca1a-65e763a41b42"
      },
      "outputs": [
        {
          "data": {
            "text/plain": [
              "['with_mask_3679.jpg',\n",
              " 'with_mask_1644.jpg',\n",
              " 'with_mask_817.jpg',\n",
              " 'with_mask_2221.jpg',\n",
              " 'with_mask_451.jpg']"
            ]
          },
          "execution_count": 9,
          "metadata": {},
          "output_type": "execute_result"
        }
      ],
      "source": [
        "with_mask[:5]"
      ]
    },
    {
      "cell_type": "code",
      "execution_count": 9,
      "metadata": {
        "id": "IyJmU26iJ5ME"
      },
      "outputs": [],
      "source": []
    },
    {
      "cell_type": "code",
      "execution_count": 10,
      "metadata": {
        "id": "cpTiYqjEHVQI"
      },
      "outputs": [],
      "source": [
        "import cv2\n",
        "import numpy as np\n",
        "data=[]\n",
        "labels=[]\n",
        "path=\"/content/face-mask-dataset/data/with_mask\"\n",
        "for i in with_mask:\n",
        "  image=os.path.join(path,i)\n",
        "  image=cv2.imread(image)\n",
        "  image=cv2.resize(image,(75,75))\n",
        "  image=cv2.cvtColor(image,cv2.COLOR_BGR2RGB)\n",
        "  image=np.array(image)\n",
        "  data.append(image)\n",
        "  labels.append(1)\n",
        "\n"
      ]
    },
    {
      "cell_type": "code",
      "execution_count": 11,
      "metadata": {
        "id": "jUa3x6-nId-F"
      },
      "outputs": [],
      "source": [
        "path=\"/content/face-mask-dataset/data/without_mask\"\n",
        "for i in without_mask:\n",
        "  img=os.path.join(path,i)\n",
        "  img=cv2.imread(img)\n",
        "  img=cv2.resize(img,(75,75))\n",
        "  img=cv2.cvtColor(img,cv2.COLOR_BGR2RGB)\n",
        "  img=np.array(img)\n",
        "  data.append(img)\n",
        "  labels.append(0)"
      ]
    },
    {
      "cell_type": "code",
      "execution_count": 12,
      "metadata": {
        "id": "_jcUKpirOmh-"
      },
      "outputs": [],
      "source": [
        "from sklearn.model_selection import train_test_split"
      ]
    },
    {
      "cell_type": "code",
      "execution_count": 13,
      "metadata": {
        "id": "73Z5ClSpKpNh"
      },
      "outputs": [],
      "source": [
        "from tensorflow.keras.applications.inception_v3 import InceptionV3,preprocess_input"
      ]
    },
    {
      "cell_type": "code",
      "execution_count": 14,
      "metadata": {
        "colab": {
          "base_uri": "https://localhost:8080/",
          "height": 115
        },
        "id": "SDEBzHd5Lbzl",
        "outputId": "e97ea5a7-eb7c-4f74-d3c6-5b9cde6f4125"
      },
      "outputs": [
        {
          "data": {
            "text/html": [
              "<style>\n",
              "      .ndarray_repr .ndarray_raw_data {\n",
              "        display: none;\n",
              "      }\n",
              "      .ndarray_repr.show_array .ndarray_raw_data {\n",
              "        display: block;\n",
              "      }\n",
              "      .ndarray_repr.show_array .ndarray_image_preview {\n",
              "        display: none;\n",
              "      }\n",
              "      </style>\n",
              "      <div id=\"id-3ca4cf06-38b3-4066-aab7-6d590058f934\" class=\"ndarray_repr\"><pre>ndarray (75, 75, 3) <button style=\"padding: 0 2px;\">show data</button></pre><img src=\"data:image/png;base64,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\" class=\"ndarray_image_preview\" /><pre class=\"ndarray_raw_data\">array([[[ 84,  55,  75],\n",
              "        [ 98,  66,  62],\n",
              "        [100,  60,  59],\n",
              "        ...,\n",
              "        [153, 142, 141],\n",
              "        [148, 137, 145],\n",
              "        [152, 139, 162]],\n",
              "\n",
              "       [[ 91,  56,  62],\n",
              "        [ 95,  59,  52],\n",
              "        [100,  63,  54],\n",
              "        ...,\n",
              "        [162, 148, 145],\n",
              "        [146, 132, 130],\n",
              "        [152, 137, 140]],\n",
              "\n",
              "       [[ 90,  49,  55],\n",
              "        [ 93,  53,  56],\n",
              "        [ 99,  61,  58],\n",
              "        ...,\n",
              "        [153, 137, 138],\n",
              "        [153, 137, 138],\n",
              "        [157, 142, 139]],\n",
              "\n",
              "       ...,\n",
              "\n",
              "       [[ 55,   7,  27],\n",
              "        [ 96,   2,   9],\n",
              "        [105,  35,  33],\n",
              "        ...,\n",
              "        [  5,   2,  31],\n",
              "        [  0,  15,  69],\n",
              "        [ 45, 106, 177]],\n",
              "\n",
              "       [[148,  88,  77],\n",
              "        [137,   6,  30],\n",
              "        [118,   2,  25],\n",
              "        ...,\n",
              "        [  0,   2,  52],\n",
              "        [  8,  27, 111],\n",
              "        [ 50,  92, 178]],\n",
              "\n",
              "       [[145,  92,  74],\n",
              "        [115,  11,  26],\n",
              "        [111,   8,  27],\n",
              "        ...,\n",
              "        [  8,  20,  88],\n",
              "        [  8,  25, 116],\n",
              "        [ 13,  30,  91]]], dtype=uint8)</pre></div><script>\n",
              "      (() => {\n",
              "      const titles = ['show data', 'hide data'];\n",
              "      let index = 0\n",
              "      document.querySelector('#id-3ca4cf06-38b3-4066-aab7-6d590058f934 button').onclick = (e) => {\n",
              "        document.querySelector('#id-3ca4cf06-38b3-4066-aab7-6d590058f934').classList.toggle('show_array');\n",
              "        index = (++index) % 2;\n",
              "        document.querySelector('#id-3ca4cf06-38b3-4066-aab7-6d590058f934 button').textContent = titles[index];\n",
              "        e.preventDefault();\n",
              "        e.stopPropagation();\n",
              "      }\n",
              "      })();\n",
              "    </script>"
            ],
            "text/plain": [
              "array([[[ 84,  55,  75],\n",
              "        [ 98,  66,  62],\n",
              "        [100,  60,  59],\n",
              "        ...,\n",
              "        [153, 142, 141],\n",
              "        [148, 137, 145],\n",
              "        [152, 139, 162]],\n",
              "\n",
              "       [[ 91,  56,  62],\n",
              "        [ 95,  59,  52],\n",
              "        [100,  63,  54],\n",
              "        ...,\n",
              "        [162, 148, 145],\n",
              "        [146, 132, 130],\n",
              "        [152, 137, 140]],\n",
              "\n",
              "       [[ 90,  49,  55],\n",
              "        [ 93,  53,  56],\n",
              "        [ 99,  61,  58],\n",
              "        ...,\n",
              "        [153, 137, 138],\n",
              "        [153, 137, 138],\n",
              "        [157, 142, 139]],\n",
              "\n",
              "       ...,\n",
              "\n",
              "       [[ 55,   7,  27],\n",
              "        [ 96,   2,   9],\n",
              "        [105,  35,  33],\n",
              "        ...,\n",
              "        [  5,   2,  31],\n",
              "        [  0,  15,  69],\n",
              "        [ 45, 106, 177]],\n",
              "\n",
              "       [[148,  88,  77],\n",
              "        [137,   6,  30],\n",
              "        [118,   2,  25],\n",
              "        ...,\n",
              "        [  0,   2,  52],\n",
              "        [  8,  27, 111],\n",
              "        [ 50,  92, 178]],\n",
              "\n",
              "       [[145,  92,  74],\n",
              "        [115,  11,  26],\n",
              "        [111,   8,  27],\n",
              "        ...,\n",
              "        [  8,  20,  88],\n",
              "        [  8,  25, 116],\n",
              "        [ 13,  30,  91]]], dtype=uint8)"
            ]
          },
          "execution_count": 14,
          "metadata": {},
          "output_type": "execute_result"
        }
      ],
      "source": [
        "data[1]"
      ]
    },
    {
      "cell_type": "code",
      "execution_count": 15,
      "metadata": {
        "id": "u5bzf4M1LI90"
      },
      "outputs": [],
      "source": [
        "import numpy as np\n",
        "\n",
        "# 'data' is your Python list of images\n",
        "\n",
        "# Step 1: Convert the list into a NumPy array\n",
        "data_array = np.array(data)\n",
        "\n",
        "# Step 2: Pass the NumPy array to the preprocessing function\n",
        "data_preprocessed = preprocess_input(data_array)"
      ]
    },
    {
      "cell_type": "code",
      "execution_count": 16,
      "metadata": {
        "colab": {
          "base_uri": "https://localhost:8080/"
        },
        "id": "dKVx-Qx8LNT0",
        "outputId": "80c51ce2-bd4d-4ebf-d6b9-6c05fc99fcd9"
      },
      "outputs": [
        {
          "data": {
            "text/plain": [
              "(7553, 75, 75, 3)"
            ]
          },
          "execution_count": 16,
          "metadata": {},
          "output_type": "execute_result"
        }
      ],
      "source": [
        "data_preprocessed.shape"
      ]
    },
    {
      "cell_type": "code",
      "execution_count": 17,
      "metadata": {
        "id": "smj1W7eGOwby"
      },
      "outputs": [],
      "source": [
        "x_train,x_test,y_train,y_test=train_test_split(data_preprocessed,labels,test_size=0.2,random_state=42)"
      ]
    },
    {
      "cell_type": "code",
      "execution_count": 18,
      "metadata": {
        "id": "zL6m-Ov6OwXU"
      },
      "outputs": [],
      "source": [
        "xtrain=np.array(x_train)\n",
        "ytrain=np.array(y_train)\n",
        "xtest=np.array(x_test)\n",
        "ytest=np.array(y_test)"
      ]
    },
    {
      "cell_type": "code",
      "execution_count": 19,
      "metadata": {
        "colab": {
          "base_uri": "https://localhost:8080/"
        },
        "id": "C5BexNXmOwUY",
        "outputId": "3d493d5d-dced-4b8f-922d-3102b36c3c3a"
      },
      "outputs": [
        {
          "data": {
            "text/plain": [
              "(1511, 75, 75, 3)"
            ]
          },
          "execution_count": 19,
          "metadata": {},
          "output_type": "execute_result"
        }
      ],
      "source": [
        "x_test.shape"
      ]
    },
    {
      "cell_type": "code",
      "execution_count": 20,
      "metadata": {
        "colab": {
          "base_uri": "https://localhost:8080/"
        },
        "id": "IusON354MnzW",
        "outputId": "b72c298a-f0e1-4b58-9eed-116662f49461"
      },
      "outputs": [
        {
          "name": "stdout",
          "output_type": "stream",
          "text": [
            "Downloading data from https://storage.googleapis.com/tensorflow/keras-applications/inception_v3/inception_v3_weights_tf_dim_ordering_tf_kernels_notop.h5\n",
            "\u001b[1m87910968/87910968\u001b[0m \u001b[32m━━━━━━━━━━━━━━━━━━━━\u001b[0m\u001b[37m\u001b[0m \u001b[1m5s\u001b[0m 0us/step\n"
          ]
        }
      ],
      "source": [
        "model=InceptionV3(weights=\"imagenet\",include_top=False,input_shape=( 75, 75, 3))"
      ]
    },
    {
      "cell_type": "code",
      "execution_count": 21,
      "metadata": {
        "id": "pKqNqRWwM6de"
      },
      "outputs": [],
      "source": [
        "cnnblock=model.output"
      ]
    },
    {
      "cell_type": "code",
      "execution_count": 22,
      "metadata": {
        "id": "LkaJGf8aNKjh"
      },
      "outputs": [],
      "source": [
        "from tensorflow.keras.layers import Flatten,Dense\n",
        "flatten_block=Flatten()(cnnblock)"
      ]
    },
    {
      "cell_type": "code",
      "execution_count": 23,
      "metadata": {
        "id": "L1-NQPFSNXtl"
      },
      "outputs": [],
      "source": [
        "ann_block=Dense(256,activation=\"relu\")(flatten_block)"
      ]
    },
    {
      "cell_type": "code",
      "execution_count": 24,
      "metadata": {
        "id": "DyJJZmIgNgmS"
      },
      "outputs": [],
      "source": [
        "ann_block=Dense(512,activation=\"relu\")(ann_block)"
      ]
    },
    {
      "cell_type": "code",
      "execution_count": 25,
      "metadata": {
        "id": "nvG69LD1Nqxk"
      },
      "outputs": [],
      "source": [
        "ann_block=Dense(512,activation=\"relu\")(ann_block)\n",
        "ann_block=Dense(1024,activation=\"relu\")(ann_block)\n",
        "ann_block=Dense(512,activation=\"relu\")(ann_block)"
      ]
    },
    {
      "cell_type": "code",
      "execution_count": 26,
      "metadata": {
        "id": "X0CvRdqWN40a"
      },
      "outputs": [],
      "source": [
        "output_layer=Dense(1,activation=\"sigmoid\")(ann_block)"
      ]
    },
    {
      "cell_type": "code",
      "execution_count": 27,
      "metadata": {
        "id": "Yp2LqcrkN-21"
      },
      "outputs": [],
      "source": [
        "from tensorflow.keras.models import Model"
      ]
    },
    {
      "cell_type": "code",
      "execution_count": 28,
      "metadata": {
        "id": "ajZHGFagOEFf"
      },
      "outputs": [],
      "source": [
        "model1=Model(inputs=model.input,outputs=output_layer)"
      ]
    },
    {
      "cell_type": "code",
      "execution_count": 33,
      "metadata": {
        "id": "f9udQ_kSOLkL"
      },
      "outputs": [],
      "source": [
        "model1.compile(optimizer='adam',loss='binary_crossentropy',metrics=['accuracy'])"
      ]
    },
    {
      "cell_type": "code",
      "execution_count": 34,
      "metadata": {
        "colab": {
          "base_uri": "https://localhost:8080/"
        },
        "id": "p-DXOHvrOeHi",
        "outputId": "3a6c9e63-9bd2-4a2f-9907-97e36a6b5dea"
      },
      "outputs": [
        {
          "name": "stdout",
          "output_type": "stream",
          "text": [
            "Epoch 1/3\n",
            "\u001b[1m178/178\u001b[0m \u001b[32m━━━━━━━━━━━━━━━━━━━━\u001b[0m\u001b[37m\u001b[0m \u001b[1m167s\u001b[0m 450ms/step - accuracy: 0.8332 - loss: 0.3576 - val_accuracy: 0.8213 - val_loss: 0.6740\n",
            "Epoch 2/3\n",
            "\u001b[1m178/178\u001b[0m \u001b[32m━━━━━━━━━━━━━━━━━━━━\u001b[0m\u001b[37m\u001b[0m \u001b[1m24s\u001b[0m 63ms/step - accuracy: 0.9298 - loss: 0.1773 - val_accuracy: 0.9523 - val_loss: 0.1594\n",
            "Epoch 3/3\n",
            "\u001b[1m178/178\u001b[0m \u001b[32m━━━━━━━━━━━━━━━━━━━━\u001b[0m\u001b[37m\u001b[0m \u001b[1m20s\u001b[0m 62ms/step - accuracy: 0.9657 - loss: 0.1240 - val_accuracy: 0.9782 - val_loss: 0.1000\n"
          ]
        },
        {
          "data": {
            "text/plain": [
              "<keras.src.callbacks.history.History at 0x78bf2857a240>"
            ]
          },
          "execution_count": 34,
          "metadata": {},
          "output_type": "execute_result"
        }
      ],
      "source": [
        "model1.fit(xtrain,ytrain,epochs=3,batch_size=34,validation_data=[xtest,ytest])"
      ]
    },
    {
      "cell_type": "code",
      "execution_count": 36,
      "metadata": {
        "colab": {
          "base_uri": "https://localhost:8080/"
        },
        "id": "kzO2RxOIPRvZ",
        "outputId": "bc6a7efe-96fb-4a52-ed9d-e4acf06b08e5"
      },
      "outputs": [
        {
          "name": "stdout",
          "output_type": "stream",
          "text": [
            "\u001b[1m48/48\u001b[0m \u001b[32m━━━━━━━━━━━━━━━━━━━━\u001b[0m\u001b[37m\u001b[0m \u001b[1m14s\u001b[0m 145ms/step - accuracy: 0.9827 - loss: 0.0821\n"
          ]
        },
        {
          "data": {
            "text/plain": [
              "[0.10000453889369965, 0.9781601428985596]"
            ]
          },
          "execution_count": 36,
          "metadata": {},
          "output_type": "execute_result"
        }
      ],
      "source": [
        "model1.evaluate(xtest,ytest)"
      ]
    },
    {
      "cell_type": "code",
      "execution_count": 45,
      "metadata": {
        "colab": {
          "base_uri": "https://localhost:8080/"
        },
        "id": "tZLmNAUFTohv",
        "outputId": "b73c5424-3cae-4255-95b4-3c4c14357a07"
      },
      "outputs": [
        {
          "name": "stdout",
          "output_type": "stream",
          "text": [
            "\u001b[1m1/1\u001b[0m \u001b[32m━━━━━━━━━━━━━━━━━━━━\u001b[0m\u001b[37m\u001b[0m \u001b[1m0s\u001b[0m 43ms/step\n",
            "Mask not detected\n"
          ]
        }
      ],
      "source": [
        "img_path=\"/content/w4.webp\"\n",
        "img=cv2.imread(img_path)\n",
        "img=cv2.resize(img,(75,75))\n",
        "img=cv2.cvtColor(img,cv2.COLOR_BGR2RGB)\n",
        "img=np.array(img)\n",
        "img_preprocessed = preprocess_input(img)\n",
        "img_batch = np.expand_dims(img_preprocessed, axis=0)\n",
        "prediction = model1.predict(img_batch)\n",
        "if(prediction[0]>=0.5):\n",
        "  print(\"Mask Detected\")\n",
        "else:\n",
        "  print(\"Mask not detected\")"
      ]
    },
    {
      "cell_type": "code",
      "execution_count": 40,
      "metadata": {
        "colab": {
          "base_uri": "https://localhost:8080/"
        },
        "id": "bNrJVVJdSckq",
        "outputId": "fefa4964-8810-4aa7-9231-381374f90743"
      },
      "outputs": [
        {
          "name": "stdout",
          "output_type": "stream",
          "text": [
            "Shape of the image for prediction: (1, 75, 75, 3)\n",
            "\u001b[1m1/1\u001b[0m \u001b[32m━━━━━━━━━━━━━━━━━━━━\u001b[0m\u001b[37m\u001b[0m \u001b[1m8s\u001b[0m 8s/step\n"
          ]
        }
      ],
      "source": [
        "img_preprocessed = preprocess_input(img_resized)\n",
        "img_batch = np.expand_dims(img_preprocessed, axis=0)\n",
        "prediction = model1.predict(img_batch)"
      ]
    },
    {
      "cell_type": "code",
      "execution_count": 41,
      "metadata": {
        "colab": {
          "base_uri": "https://localhost:8080/"
        },
        "id": "MOfycahCTgqh",
        "outputId": "6b9437b9-340e-448e-faee-2bc6173f77f0"
      },
      "outputs": [
        {
          "data": {
            "text/plain": [
              "array([[0.9854283]], dtype=float32)"
            ]
          },
          "execution_count": 41,
          "metadata": {},
          "output_type": "execute_result"
        }
      ],
      "source": [
        "prediction"
      ]
    },
    {
      "cell_type": "code",
      "execution_count": null,
      "metadata": {
        "id": "Gpx12RAXUNrA"
      },
      "outputs": [],
      "source": []
    }
  ],
  "metadata": {
    "accelerator": "GPU",
    "colab": {
      "gpuType": "T4",
      "provenance": []
    },
    "kernelspec": {
      "display_name": "Python 3",
      "name": "python3"
    },
    "language_info": {
      "name": "python"
    }
  },
  "nbformat": 4,
  "nbformat_minor": 0
}
